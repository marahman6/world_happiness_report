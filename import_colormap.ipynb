{
 "cells": [
  {
   "cell_type": "code",
   "execution_count": 1,
   "id": "e34f7ded",
   "metadata": {},
   "outputs": [
    {
     "name": "stdout",
     "output_type": "stream",
     "text": [
      "['#be254a', '#dc484c', '#ef6645', '#f88c51', '#fdb365', '#fed27f', '#feeb9d', '#fffebe', '#f0f9a7', '#d8ef9b', '#b3e0a2', '#89d0a4', '#60bba8', '#3f97b7', '#4273b3']\n"
     ]
    }
   ],
   "source": [
    "import seaborn as sns\n",
    "from PIL import Image, ImageDraw\n",
    "\n",
    "iter = 15\n",
    "\n",
    "palette = list(reversed(sns.color_palette(\"Spectral_r\", iter).as_hex()))\n",
    "print(palette)\n",
    "\n",
    "width_px=1000\n",
    "new = Image.new(mode=\"RGB\", size=(width_px,120))\n",
    "\n",
    "for i in range(iter):\n",
    "\n",
    "    newt = Image.new(mode=\"RGB\", size=(width_px//iter,100), color=palette[i])\n",
    "    new.paste(newt, (i*width_px//iter,10))"
   ]
  },
  {
   "cell_type": "code",
   "execution_count": 2,
   "id": "0311754d",
   "metadata": {},
   "outputs": [],
   "source": [
    "new.show()"
   ]
  },
  {
   "cell_type": "code",
   "execution_count": 37,
   "id": "ebeb140e",
   "metadata": {},
   "outputs": [
    {
     "name": "stdout",
     "output_type": "stream",
     "text": [
      "['#f9f7fb', '#f5f4f9', '#f2f0f7', '#eeecf5', '#e9e8f2', '#e4e3f0', '#dedeed', '#d8d8ea', '#d0d1e6', '#c9c9e2', '#c1c2df', '#b9b9da', '#b1b1d5', '#aaa8d0', '#a29fcb', '#9a96c6', '#928fc3', '#8b87bf', '#8380bb', '#7c75b6', '#776ab0', '#715faa', '#6c54a5', '#65489f', '#603e9a', '#5a3395', '#552890', '#4f1d8b', '#4a1486', '#440a82']\n"
     ]
    }
   ],
   "source": [
    "palette = sns.color_palette(\"Purples\", 30).as_hex()\n",
    "print(palette)"
   ]
  },
  {
   "cell_type": "code",
   "execution_count": null,
   "id": "e69bcd1f",
   "metadata": {},
   "outputs": [],
   "source": []
  }
 ],
 "metadata": {
  "kernelspec": {
   "display_name": "local-venv",
   "language": "python",
   "name": "local-venv"
  },
  "language_info": {
   "codemirror_mode": {
    "name": "ipython",
    "version": 3
   },
   "file_extension": ".py",
   "mimetype": "text/x-python",
   "name": "python",
   "nbconvert_exporter": "python",
   "pygments_lexer": "ipython3",
   "version": "3.9.13"
  }
 },
 "nbformat": 4,
 "nbformat_minor": 5
}
